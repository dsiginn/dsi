{
 "cells": [
  {
   "cell_type": "code",
   "execution_count": 1,
   "metadata": {},
   "outputs": [],
   "source": [
    "import pandas as pd\n",
    "import regex as re\n",
    "import nltk\n",
    "\n",
    "\n",
    "from nltk.corpus import stopwords\n",
    "from nltk.stem import WordNetLemmatizer\n",
    "from nltk import sent_tokenize, word_tokenize\n",
    "from sklearn.naive_bayes import MultinomialNB\n",
    "from sklearn.feature_extraction.text import CountVectorizer, TfidfVectorizer, TfidfTransformer\n",
    "from sklearn.pipeline import Pipeline\n",
    "from sklearn.model_selection import train_test_split, GridSearchCV\n",
    "from sklearn.linear_model import LogisticRegression\n",
    "\n",
    "pd.set_option('max_colwidth', 100000)"
   ]
  },
  {
   "cell_type": "code",
   "execution_count": 2,
   "metadata": {},
   "outputs": [],
   "source": [
    "www = pd.read_csv('./www_clean.csv')\n",
    "nomil = pd.read_csv('./nomil_clean.csv')"
   ]
  },
  {
   "cell_type": "code",
   "execution_count": 3,
   "metadata": {},
   "outputs": [],
   "source": [
    "result = pd.merge(www, nomil,how='outer')"
   ]
  },
  {
   "cell_type": "code",
   "execution_count": 4,
   "metadata": {},
   "outputs": [
    {
     "data": {
      "text/plain": [
       "selftext     1900\n",
       "subreddit    1900\n",
       "dtype: int64"
      ]
     },
     "execution_count": 4,
     "metadata": {},
     "output_type": "execute_result"
    }
   ],
   "source": [
    "result.count()"
   ]
  },
  {
   "cell_type": "markdown",
   "metadata": {},
   "source": [
    "def standardize_text(df, text_field):\n",
    "    df[text_field] = df[text_field].str.lower()\n",
    "    df[text_field] = df[text_field].str.replace(r\"\\(https?:\\/\\/.*[\\r\\n]*\", \" \")\n",
    "    df[text_field] = df[text_field].str.replace(r\"[^\\w\\s]\", \" \")\n",
    "    df[text_field] = df[text_field].str.replace(r\"[\\n]\", \" \")\n",
    "    df[text_field] = df[text_field].str.replace(r\"[\\d+]\", \" \")\n",
    "    #df[text_field] = df[text_field].str.replace(r\"http\\S+\", \"\")\n",
    "    #df[text_field] = df[text_field].str.replace(r\"http\", \"\")\n",
    "    #df[text_field] = df[text_field].str.replace(r\"@\\S+\", \"\")\n",
    "    #df[text_field] = df[text_field].str.replace(r\"[^A-Za-z0-9(),!?@\\'\\`\\\"\\_\\n]\", \" \")\n",
    "    #df[text_field] = df[text_field].str.replace(r\"@\", \"at\")\n",
    "    return df"
   ]
  },
  {
   "cell_type": "code",
   "execution_count": 5,
   "metadata": {},
   "outputs": [],
   "source": [
    "def clean_text(text):\n",
    "    # remove HTML tags and URLs\n",
    "    text = re.sub(r'<.*?>', '', text)\n",
    "    text = re.sub(r'^https?:\\/\\/.*[\\r\\n]*','',text)\n",
    "    \n",
    "    # keep only text without punctuation\n",
    "    text = re.sub(r'[^\\w\\s]','',text)\n",
    "    \n",
    "    # convert text to lowercase\n",
    "    text = text.strip().lower()\n",
    "\n",
    "    # split text into a list of words\n",
    "    token_text = re.split('\\W+',text) #W+ --> word chars and dashes permitted\n",
    "    \n",
    "    return token_text"
   ]
  },
  {
   "cell_type": "code",
   "execution_count": 6,
   "metadata": {},
   "outputs": [
    {
     "data": {
      "text/html": [
       "<div>\n",
       "<style scoped>\n",
       "    .dataframe tbody tr th:only-of-type {\n",
       "        vertical-align: middle;\n",
       "    }\n",
       "\n",
       "    .dataframe tbody tr th {\n",
       "        vertical-align: top;\n",
       "    }\n",
       "\n",
       "    .dataframe thead th {\n",
       "        text-align: right;\n",
       "    }\n",
       "</style>\n",
       "<table border=\"1\" class=\"dataframe\">\n",
       "  <thead>\n",
       "    <tr style=\"text-align: right;\">\n",
       "      <th></th>\n",
       "      <th>selftext</th>\n",
       "      <th>subreddit</th>\n",
       "      <th>token</th>\n",
       "    </tr>\n",
       "  </thead>\n",
       "  <tbody>\n",
       "    <tr>\n",
       "      <th>0</th>\n",
       "      <td>What's your favorite feat of all time in all of fiction, ***and why***?\\n\\nJumping-off point aside, new Featured Character/Team sign-ups should be coming soon (this week easily), any other pieces of important business people are dying to ask about, feel free to do so here!\\n\\nBeyond that, business as usual, use this thread to discuss and-and-everything!!</td>\n",
       "      <td>whowouldwin</td>\n",
       "      <td>[whats, your, favorite, feat, of, all, time, in, all, of, fiction, and, why, jumpingoff, point, aside, new, featured, characterteam, signups, should, be, coming, soon, this, week, easily, any, other, pieces, of, important, business, people, are, dying, to, ask, about, feel, free, to, do, so, here, beyond, that, business, as, usual, use, this, thread, to, discuss, andandeverything]</td>\n",
       "    </tr>\n",
       "  </tbody>\n",
       "</table>\n",
       "</div>"
      ],
      "text/plain": [
       "                                                                                                                                                                                                                                                                                                                                                               selftext  \\\n",
       "0  What's your favorite feat of all time in all of fiction, ***and why***?\\n\\nJumping-off point aside, new Featured Character/Team sign-ups should be coming soon (this week easily), any other pieces of important business people are dying to ask about, feel free to do so here!\\n\\nBeyond that, business as usual, use this thread to discuss and-and-everything!!   \n",
       "\n",
       "     subreddit  \\\n",
       "0  whowouldwin   \n",
       "\n",
       "                                                                                                                                                                                                                                                                                                                                                                                             token  \n",
       "0  [whats, your, favorite, feat, of, all, time, in, all, of, fiction, and, why, jumpingoff, point, aside, new, featured, characterteam, signups, should, be, coming, soon, this, week, easily, any, other, pieces, of, important, business, people, are, dying, to, ask, about, feel, free, to, do, so, here, beyond, that, business, as, usual, use, this, thread, to, discuss, andandeverything]  "
      ]
     },
     "execution_count": 6,
     "metadata": {},
     "output_type": "execute_result"
    }
   ],
   "source": [
    "#result = clean_text(result['selftext'])\n",
    "#result.selftext.head(1)\n",
    "\n",
    "result['token'] = result['selftext'].apply(lambda x: clean_text(x))\n",
    "result.head(1)"
   ]
  },
  {
   "cell_type": "code",
   "execution_count": 7,
   "metadata": {},
   "outputs": [
    {
     "name": "stdout",
     "output_type": "stream",
     "text": [
      "['i', 'me', 'my', 'myself', 'we', 'our', 'ours', 'ourselves', 'you', \"you're\", \"you've\", \"you'll\", \"you'd\", 'your', 'yours', 'yourself', 'yourselves', 'he', 'him', 'his', 'himself', 'she', \"she's\", 'her', 'hers', 'herself', 'it', \"it's\", 'its', 'itself', 'they', 'them', 'their', 'theirs', 'themselves', 'what', 'which', 'who', 'whom', 'this', 'that', \"that'll\", 'these', 'those', 'am', 'is', 'are', 'was', 'were', 'be', 'been', 'being', 'have', 'has', 'had', 'having', 'do', 'does', 'did', 'doing', 'a', 'an', 'the', 'and', 'but', 'if', 'or', 'because', 'as', 'until', 'while', 'of', 'at', 'by', 'for', 'with', 'about', 'against', 'between', 'into', 'through', 'during', 'before', 'after', 'above', 'below', 'to', 'from', 'up', 'down', 'in', 'out', 'on', 'off', 'over', 'under', 'again', 'further', 'then', 'once', 'here', 'there', 'when', 'where', 'why', 'how', 'all', 'any', 'both', 'each', 'few', 'more', 'most', 'other', 'some', 'such', 'no', 'nor', 'not', 'only', 'own', 'same', 'so', 'than', 'too', 'very', 's', 't', 'can', 'will', 'just', 'don', \"don't\", 'should', \"should've\", 'now', 'd', 'll', 'm', 'o', 're', 've', 'y', 'ain', 'aren', \"aren't\", 'couldn', \"couldn't\", 'didn', \"didn't\", 'doesn', \"doesn't\", 'hadn', \"hadn't\", 'hasn', \"hasn't\", 'haven', \"haven't\", 'isn', \"isn't\", 'ma', 'mightn', \"mightn't\", 'mustn', \"mustn't\", 'needn', \"needn't\", 'shan', \"shan't\", 'shouldn', \"shouldn't\", 'wasn', \"wasn't\", 'weren', \"weren't\", 'won', \"won't\", 'wouldn', \"wouldn't\"]\n"
     ]
    }
   ],
   "source": [
    "stop = stopwords.words('english')\n",
    "print(stop)"
   ]
  },
  {
   "cell_type": "code",
   "execution_count": 8,
   "metadata": {},
   "outputs": [
    {
     "data": {
      "text/html": [
       "<div>\n",
       "<style scoped>\n",
       "    .dataframe tbody tr th:only-of-type {\n",
       "        vertical-align: middle;\n",
       "    }\n",
       "\n",
       "    .dataframe tbody tr th {\n",
       "        vertical-align: top;\n",
       "    }\n",
       "\n",
       "    .dataframe thead th {\n",
       "        text-align: right;\n",
       "    }\n",
       "</style>\n",
       "<table border=\"1\" class=\"dataframe\">\n",
       "  <thead>\n",
       "    <tr style=\"text-align: right;\">\n",
       "      <th></th>\n",
       "      <th>selftext</th>\n",
       "      <th>subreddit</th>\n",
       "      <th>token</th>\n",
       "      <th>token_stop</th>\n",
       "    </tr>\n",
       "  </thead>\n",
       "  <tbody>\n",
       "    <tr>\n",
       "      <th>0</th>\n",
       "      <td>What's your favorite feat of all time in all of fiction, ***and why***?\\n\\nJumping-off point aside, new Featured Character/Team sign-ups should be coming soon (this week easily), any other pieces of important business people are dying to ask about, feel free to do so here!\\n\\nBeyond that, business as usual, use this thread to discuss and-and-everything!!</td>\n",
       "      <td>whowouldwin</td>\n",
       "      <td>[whats, your, favorite, feat, of, all, time, in, all, of, fiction, and, why, jumpingoff, point, aside, new, featured, characterteam, signups, should, be, coming, soon, this, week, easily, any, other, pieces, of, important, business, people, are, dying, to, ask, about, feel, free, to, do, so, here, beyond, that, business, as, usual, use, this, thread, to, discuss, andandeverything]</td>\n",
       "      <td>[whats, favorite, feat, time, fiction, jumpingoff, point, aside, new, featured, characterteam, signups, coming, soon, week, easily, pieces, important, business, people, dying, ask, feel, free, beyond, business, usual, use, thread, discuss, andandeverything]</td>\n",
       "    </tr>\n",
       "  </tbody>\n",
       "</table>\n",
       "</div>"
      ],
      "text/plain": [
       "                                                                                                                                                                                                                                                                                                                                                               selftext  \\\n",
       "0  What's your favorite feat of all time in all of fiction, ***and why***?\\n\\nJumping-off point aside, new Featured Character/Team sign-ups should be coming soon (this week easily), any other pieces of important business people are dying to ask about, feel free to do so here!\\n\\nBeyond that, business as usual, use this thread to discuss and-and-everything!!   \n",
       "\n",
       "     subreddit  \\\n",
       "0  whowouldwin   \n",
       "\n",
       "                                                                                                                                                                                                                                                                                                                                                                                             token  \\\n",
       "0  [whats, your, favorite, feat, of, all, time, in, all, of, fiction, and, why, jumpingoff, point, aside, new, featured, characterteam, signups, should, be, coming, soon, this, week, easily, any, other, pieces, of, important, business, people, are, dying, to, ask, about, feel, free, to, do, so, here, beyond, that, business, as, usual, use, this, thread, to, discuss, andandeverything]   \n",
       "\n",
       "                                                                                                                                                                                                                                                          token_stop  \n",
       "0  [whats, favorite, feat, time, fiction, jumpingoff, point, aside, new, featured, characterteam, signups, coming, soon, week, easily, pieces, important, business, people, dying, ask, feel, free, beyond, business, usual, use, thread, discuss, andandeverything]  "
      ]
     },
     "execution_count": 8,
     "metadata": {},
     "output_type": "execute_result"
    }
   ],
   "source": [
    "result['token_stop'] = result['token'].apply(lambda x: [item for item in x if item not in stop])\n",
    "result.head(1)"
   ]
  },
  {
   "cell_type": "code",
   "execution_count": 9,
   "metadata": {},
   "outputs": [
    {
     "data": {
      "text/html": [
       "<div>\n",
       "<style scoped>\n",
       "    .dataframe tbody tr th:only-of-type {\n",
       "        vertical-align: middle;\n",
       "    }\n",
       "\n",
       "    .dataframe tbody tr th {\n",
       "        vertical-align: top;\n",
       "    }\n",
       "\n",
       "    .dataframe thead th {\n",
       "        text-align: right;\n",
       "    }\n",
       "</style>\n",
       "<table border=\"1\" class=\"dataframe\">\n",
       "  <thead>\n",
       "    <tr style=\"text-align: right;\">\n",
       "      <th></th>\n",
       "      <th>token_stop</th>\n",
       "      <th>subreddit</th>\n",
       "    </tr>\n",
       "  </thead>\n",
       "  <tbody>\n",
       "    <tr>\n",
       "      <th>0</th>\n",
       "      <td>[whats, favorite, feat, time, fiction, jumpingoff, point, aside, new, featured, characterteam, signups, coming, soon, week, easily, pieces, important, business, people, dying, ask, feel, free, beyond, business, usual, use, thread, discuss, andandeverything]</td>\n",
       "      <td>whowouldwin</td>\n",
       "    </tr>\n",
       "    <tr>\n",
       "      <th>1</th>\n",
       "      <td>[read, whole, post, signing, every, week, subreddit, features, character, every, two, weeks, feature, team, posts, written, users, charactersteams, feel, like, shown, love, subreddit, posts, question, sort, like, shorter, respect, threads, sign, post, signups, july, september, session, stay, around, week, give, take, therefore, signups, close, 1159, pm, est, monday, june, 17th, give, take, sign, easy, worries, post, listing, either, character, team, youre, planning, point, signups, close, send, us, proof, concept, modmail, proof, concept, anything, draft, thread, already, done, respect, thread, imgur, album, feats, long, know, something, ready, going, vetting, past, post, doesnt, meet, standards, info, rules, section, work, get, ready, submission, ...]</td>\n",
       "      <td>whowouldwin</td>\n",
       "    </tr>\n",
       "    <tr>\n",
       "      <th>2</th>\n",
       "      <td>[latest, 616, rebirth, versions, unless, stated, otherwise, arent, 100, evil, aligned, villains, scenario, one, stated, title, side, wins, rounds, overall, scenario, two, ladder, mode, whoever, wins, given, round, allowed, pass, next, rung, help, character, universe, get, 24, hours, rest, rounds, prep, unless, round, theyre, entering, specifically, allows, prep, time, ie, theyll, recuperate, hospital, setting, whatever, cosmic, equivalent, without, knowing, theyre, fight, change, okay, matches, match, one, green, goblin, vs, joker, 120, hours, psychologically, break, opponents, main, enemy, batman, spiderman, respectively, may, kill, anybody, main, target, superheroes, help, bruce, peter, match, two, kingpin, vs, penguin, kingpin, placed, gotham, penguin, placed, new, ...]</td>\n",
       "      <td>whowouldwin</td>\n",
       "    </tr>\n",
       "  </tbody>\n",
       "</table>\n",
       "</div>"
      ],
      "text/plain": [
       "                                                                                                                                                                                                                                                                                                                                                                                                                                                                                                                                                                                                                                                                                                                                                                                                        token_stop  \\\n",
       "0                                                                                                                                                                                                                                                                                                                                                                                                                                                                                                                                                [whats, favorite, feat, time, fiction, jumpingoff, point, aside, new, featured, characterteam, signups, coming, soon, week, easily, pieces, important, business, people, dying, ask, feel, free, beyond, business, usual, use, thread, discuss, andandeverything]   \n",
       "1                       [read, whole, post, signing, every, week, subreddit, features, character, every, two, weeks, feature, team, posts, written, users, charactersteams, feel, like, shown, love, subreddit, posts, question, sort, like, shorter, respect, threads, sign, post, signups, july, september, session, stay, around, week, give, take, therefore, signups, close, 1159, pm, est, monday, june, 17th, give, take, sign, easy, worries, post, listing, either, character, team, youre, planning, point, signups, close, send, us, proof, concept, modmail, proof, concept, anything, draft, thread, already, done, respect, thread, imgur, album, feats, long, know, something, ready, going, vetting, past, post, doesnt, meet, standards, info, rules, section, work, get, ready, submission, ...]   \n",
       "2  [latest, 616, rebirth, versions, unless, stated, otherwise, arent, 100, evil, aligned, villains, scenario, one, stated, title, side, wins, rounds, overall, scenario, two, ladder, mode, whoever, wins, given, round, allowed, pass, next, rung, help, character, universe, get, 24, hours, rest, rounds, prep, unless, round, theyre, entering, specifically, allows, prep, time, ie, theyll, recuperate, hospital, setting, whatever, cosmic, equivalent, without, knowing, theyre, fight, change, okay, matches, match, one, green, goblin, vs, joker, 120, hours, psychologically, break, opponents, main, enemy, batman, spiderman, respectively, may, kill, anybody, main, target, superheroes, help, bruce, peter, match, two, kingpin, vs, penguin, kingpin, placed, gotham, penguin, placed, new, ...]   \n",
       "\n",
       "     subreddit  \n",
       "0  whowouldwin  \n",
       "1  whowouldwin  \n",
       "2  whowouldwin  "
      ]
     },
     "execution_count": 9,
     "metadata": {},
     "output_type": "execute_result"
    }
   ],
   "source": [
    "result.columns\n",
    "feature = ['token_stop', 'subreddit']\n",
    "result = result[feature]\n",
    "result.head(3)"
   ]
  },
  {
   "cell_type": "code",
   "execution_count": 10,
   "metadata": {},
   "outputs": [],
   "source": [
    "lemmatizer = WordNetLemmatizer()\n",
    "def lemmatize_words(text):\n",
    "    lemma_words = [lemmatizer.lemmatize(word) for word in text]\n",
    "    return lemma_words"
   ]
  },
  {
   "cell_type": "code",
   "execution_count": 11,
   "metadata": {},
   "outputs": [],
   "source": [
    "result['token_stop1'] = result['token_stop'].apply(lambda x: lemmatize_words(x))"
   ]
  },
  {
   "cell_type": "code",
   "execution_count": 12,
   "metadata": {},
   "outputs": [
    {
     "data": {
      "text/html": [
       "<div>\n",
       "<style scoped>\n",
       "    .dataframe tbody tr th:only-of-type {\n",
       "        vertical-align: middle;\n",
       "    }\n",
       "\n",
       "    .dataframe tbody tr th {\n",
       "        vertical-align: top;\n",
       "    }\n",
       "\n",
       "    .dataframe thead th {\n",
       "        text-align: right;\n",
       "    }\n",
       "</style>\n",
       "<table border=\"1\" class=\"dataframe\">\n",
       "  <thead>\n",
       "    <tr style=\"text-align: right;\">\n",
       "      <th></th>\n",
       "      <th>token_stop</th>\n",
       "      <th>subreddit</th>\n",
       "      <th>token_stop1</th>\n",
       "    </tr>\n",
       "  </thead>\n",
       "  <tbody>\n",
       "    <tr>\n",
       "      <th>0</th>\n",
       "      <td>[whats, favorite, feat, time, fiction, jumpingoff, point, aside, new, featured, characterteam, signups, coming, soon, week, easily, pieces, important, business, people, dying, ask, feel, free, beyond, business, usual, use, thread, discuss, andandeverything]</td>\n",
       "      <td>whowouldwin</td>\n",
       "      <td>[whats, favorite, feat, time, fiction, jumpingoff, point, aside, new, featured, characterteam, signups, coming, soon, week, easily, piece, important, business, people, dying, ask, feel, free, beyond, business, usual, use, thread, discus, andandeverything]</td>\n",
       "    </tr>\n",
       "  </tbody>\n",
       "</table>\n",
       "</div>"
      ],
      "text/plain": [
       "                                                                                                                                                                                                                                                          token_stop  \\\n",
       "0  [whats, favorite, feat, time, fiction, jumpingoff, point, aside, new, featured, characterteam, signups, coming, soon, week, easily, pieces, important, business, people, dying, ask, feel, free, beyond, business, usual, use, thread, discuss, andandeverything]   \n",
       "\n",
       "     subreddit  \\\n",
       "0  whowouldwin   \n",
       "\n",
       "                                                                                                                                                                                                                                                       token_stop1  \n",
       "0  [whats, favorite, feat, time, fiction, jumpingoff, point, aside, new, featured, characterteam, signups, coming, soon, week, easily, piece, important, business, people, dying, ask, feel, free, beyond, business, usual, use, thread, discus, andandeverything]  "
      ]
     },
     "execution_count": 12,
     "metadata": {},
     "output_type": "execute_result"
    }
   ],
   "source": [
    "result.head(1)"
   ]
  },
  {
   "cell_type": "code",
   "execution_count": 13,
   "metadata": {},
   "outputs": [],
   "source": [
    "result['token_stop1'] = result['token_stop1'].apply(lambda x: \",\".join(x))"
   ]
  },
  {
   "cell_type": "code",
   "execution_count": 14,
   "metadata": {},
   "outputs": [
    {
     "data": {
      "text/html": [
       "<div>\n",
       "<style scoped>\n",
       "    .dataframe tbody tr th:only-of-type {\n",
       "        vertical-align: middle;\n",
       "    }\n",
       "\n",
       "    .dataframe tbody tr th {\n",
       "        vertical-align: top;\n",
       "    }\n",
       "\n",
       "    .dataframe thead th {\n",
       "        text-align: right;\n",
       "    }\n",
       "</style>\n",
       "<table border=\"1\" class=\"dataframe\">\n",
       "  <thead>\n",
       "    <tr style=\"text-align: right;\">\n",
       "      <th></th>\n",
       "      <th>token_stop</th>\n",
       "      <th>subreddit</th>\n",
       "      <th>token_stop1</th>\n",
       "    </tr>\n",
       "  </thead>\n",
       "  <tbody>\n",
       "    <tr>\n",
       "      <th>0</th>\n",
       "      <td>[whats, favorite, feat, time, fiction, jumpingoff, point, aside, new, featured, characterteam, signups, coming, soon, week, easily, pieces, important, business, people, dying, ask, feel, free, beyond, business, usual, use, thread, discuss, andandeverything]</td>\n",
       "      <td>whowouldwin</td>\n",
       "      <td>whats,favorite,feat,time,fiction,jumpingoff,point,aside,new,featured,characterteam,signups,coming,soon,week,easily,piece,important,business,people,dying,ask,feel,free,beyond,business,usual,use,thread,discus,andandeverything</td>\n",
       "    </tr>\n",
       "  </tbody>\n",
       "</table>\n",
       "</div>"
      ],
      "text/plain": [
       "                                                                                                                                                                                                                                                          token_stop  \\\n",
       "0  [whats, favorite, feat, time, fiction, jumpingoff, point, aside, new, featured, characterteam, signups, coming, soon, week, easily, pieces, important, business, people, dying, ask, feel, free, beyond, business, usual, use, thread, discuss, andandeverything]   \n",
       "\n",
       "     subreddit  \\\n",
       "0  whowouldwin   \n",
       "\n",
       "                                                                                                                                                                                                                       token_stop1  \n",
       "0  whats,favorite,feat,time,fiction,jumpingoff,point,aside,new,featured,characterteam,signups,coming,soon,week,easily,piece,important,business,people,dying,ask,feel,free,beyond,business,usual,use,thread,discus,andandeverything  "
      ]
     },
     "execution_count": 14,
     "metadata": {},
     "output_type": "execute_result"
    }
   ],
   "source": [
    "result.head(1)"
   ]
  },
  {
   "cell_type": "code",
   "execution_count": 15,
   "metadata": {},
   "outputs": [
    {
     "data": {
      "text/html": [
       "<div>\n",
       "<style scoped>\n",
       "    .dataframe tbody tr th:only-of-type {\n",
       "        vertical-align: middle;\n",
       "    }\n",
       "\n",
       "    .dataframe tbody tr th {\n",
       "        vertical-align: top;\n",
       "    }\n",
       "\n",
       "    .dataframe thead th {\n",
       "        text-align: right;\n",
       "    }\n",
       "</style>\n",
       "<table border=\"1\" class=\"dataframe\">\n",
       "  <thead>\n",
       "    <tr style=\"text-align: right;\">\n",
       "      <th></th>\n",
       "      <th>token_stop1</th>\n",
       "      <th>subreddit</th>\n",
       "    </tr>\n",
       "  </thead>\n",
       "  <tbody>\n",
       "    <tr>\n",
       "      <th>0</th>\n",
       "      <td>whats,favorite,feat,time,fiction,jumpingoff,point,aside,new,featured,characterteam,signups,coming,soon,week,easily,piece,important,business,people,dying,ask,feel,free,beyond,business,usual,use,thread,discus,andandeverything</td>\n",
       "      <td>whowouldwin</td>\n",
       "    </tr>\n",
       "  </tbody>\n",
       "</table>\n",
       "</div>"
      ],
      "text/plain": [
       "                                                                                                                                                                                                                       token_stop1  \\\n",
       "0  whats,favorite,feat,time,fiction,jumpingoff,point,aside,new,featured,characterteam,signups,coming,soon,week,easily,piece,important,business,people,dying,ask,feel,free,beyond,business,usual,use,thread,discus,andandeverything   \n",
       "\n",
       "     subreddit  \n",
       "0  whowouldwin  "
      ]
     },
     "execution_count": 15,
     "metadata": {},
     "output_type": "execute_result"
    }
   ],
   "source": [
    "feature = ['token_stop1', 'subreddit']\n",
    "result = result[feature]\n",
    "result.head(1)"
   ]
  },
  {
   "cell_type": "code",
   "execution_count": 16,
   "metadata": {},
   "outputs": [
    {
     "data": {
      "text/plain": [
       "JUSTNOMIL      0.5\n",
       "whowouldwin    0.5\n",
       "Name: subreddit, dtype: float64"
      ]
     },
     "execution_count": 16,
     "metadata": {},
     "output_type": "execute_result"
    }
   ],
   "source": [
    "#Baseline\n",
    "result['subreddit'].value_counts(normalize=True)"
   ]
  },
  {
   "cell_type": "code",
   "execution_count": 17,
   "metadata": {},
   "outputs": [],
   "source": [
    "#Assignment of target\n",
    "X = result['token_stop1']\n",
    "y = result['subreddit']\n",
    "\n",
    "#Train test split\n",
    "X_train, X_test, y_train, y_test = train_test_split(X, y, random_state=42)"
   ]
  },
  {
   "cell_type": "code",
   "execution_count": null,
   "metadata": {},
   "outputs": [],
   "source": [
    "#Creation of pipeline\n",
    "pipe = Pipeline([('cv', CountVectorizer()),\n",
    "                 ('tfidf',TfidfTransformer()),\n",
    "                 ('lr', LogisticRegression())])\n",
    "#lr = LogisticRegression()\n",
    "# Evaluate how your model will perform on unseen data\n",
    "#cross_val_score(lr, X_train, y_train, cv=3)\n",
    "\n",
    "# Fit your model\n",
    "pipe.fit(X_train, y_train)\n",
    "\n",
    "# Training score\n",
    "print(pipe.score(X_train, y_train))\n",
    "\n",
    "# Test score\n",
    "print(pipe.score(X_test, y_test))\n"
   ]
  },
  {
   "cell_type": "code",
   "execution_count": null,
   "metadata": {},
   "outputs": [],
   "source": [
    "pipe_params = {\n",
    "    'cv__max_features': [2500, 3000, 3500],\n",
    "    'cv__min_df': [2, 3],\n",
    "    'cv__max_df': [.9, .95],\n",
    "    'cv__ngram_range': [(1,1), (1,2)]\n",
    "}\n",
    "gs = GridSearchCV(pipe, param_grid=pipe_params, cv=3)\n",
    "gs.fit(X_train, y_train)\n",
    "print(gs.best_score_)\n",
    "gs.best_params_"
   ]
  },
  {
   "cell_type": "code",
   "execution_count": 18,
   "metadata": {},
   "outputs": [],
   "source": [
    "## Multinomial Naive Bayes model\n",
    "\n",
    "# set up pipeline\n",
    "\n",
    "# initialize\n",
    "\n",
    "\n",
    "pipe = Pipeline([('cv', CountVectorizer()),\n",
    "                 ('mnb', MultinomialNB())])"
   ]
  },
  {
   "cell_type": "code",
   "execution_count": 19,
   "metadata": {},
   "outputs": [
    {
     "name": "stdout",
     "output_type": "stream",
     "text": [
      "train score: 0.9929824561403509\n",
      "test score: 0.9873684210526316\n"
     ]
    }
   ],
   "source": [
    "# baseline MultinomialNB model\n",
    "\n",
    "pipe.fit(X_train, y_train)\n",
    "print('train score:', pipe.score(X_train, y_train))\n",
    "print('test score:', pipe.score(X_test, y_test))"
   ]
  },
  {
   "cell_type": "code",
   "execution_count": 23,
   "metadata": {},
   "outputs": [
    {
     "name": "stdout",
     "output_type": "stream",
     "text": [
      "Fitting 3 folds for each of 30 candidates, totalling 90 fits\n"
     ]
    },
    {
     "name": "stderr",
     "output_type": "stream",
     "text": [
      "[Parallel(n_jobs=1)]: Using backend SequentialBackend with 1 concurrent workers.\n",
      "/anaconda3/lib/python3.6/site-packages/sklearn/naive_bayes.py:480: UserWarning: alpha too small will result in numeric errors, setting alpha = 1.0e-10\n",
      "  'setting alpha = %.1e' % _ALPHA_MIN)\n",
      "/anaconda3/lib/python3.6/site-packages/sklearn/naive_bayes.py:480: UserWarning: alpha too small will result in numeric errors, setting alpha = 1.0e-10\n",
      "  'setting alpha = %.1e' % _ALPHA_MIN)\n",
      "/anaconda3/lib/python3.6/site-packages/sklearn/naive_bayes.py:480: UserWarning: alpha too small will result in numeric errors, setting alpha = 1.0e-10\n",
      "  'setting alpha = %.1e' % _ALPHA_MIN)\n",
      "/anaconda3/lib/python3.6/site-packages/sklearn/naive_bayes.py:480: UserWarning: alpha too small will result in numeric errors, setting alpha = 1.0e-10\n",
      "  'setting alpha = %.1e' % _ALPHA_MIN)\n",
      "/anaconda3/lib/python3.6/site-packages/sklearn/naive_bayes.py:480: UserWarning: alpha too small will result in numeric errors, setting alpha = 1.0e-10\n",
      "  'setting alpha = %.1e' % _ALPHA_MIN)\n",
      "/anaconda3/lib/python3.6/site-packages/sklearn/naive_bayes.py:480: UserWarning: alpha too small will result in numeric errors, setting alpha = 1.0e-10\n",
      "  'setting alpha = %.1e' % _ALPHA_MIN)\n",
      "/anaconda3/lib/python3.6/site-packages/sklearn/naive_bayes.py:480: UserWarning: alpha too small will result in numeric errors, setting alpha = 1.0e-10\n",
      "  'setting alpha = %.1e' % _ALPHA_MIN)\n",
      "/anaconda3/lib/python3.6/site-packages/sklearn/naive_bayes.py:480: UserWarning: alpha too small will result in numeric errors, setting alpha = 1.0e-10\n",
      "  'setting alpha = %.1e' % _ALPHA_MIN)\n",
      "/anaconda3/lib/python3.6/site-packages/sklearn/naive_bayes.py:480: UserWarning: alpha too small will result in numeric errors, setting alpha = 1.0e-10\n",
      "  'setting alpha = %.1e' % _ALPHA_MIN)\n",
      "/anaconda3/lib/python3.6/site-packages/sklearn/naive_bayes.py:480: UserWarning: alpha too small will result in numeric errors, setting alpha = 1.0e-10\n",
      "  'setting alpha = %.1e' % _ALPHA_MIN)\n",
      "/anaconda3/lib/python3.6/site-packages/sklearn/naive_bayes.py:480: UserWarning: alpha too small will result in numeric errors, setting alpha = 1.0e-10\n",
      "  'setting alpha = %.1e' % _ALPHA_MIN)\n",
      "/anaconda3/lib/python3.6/site-packages/sklearn/naive_bayes.py:480: UserWarning: alpha too small will result in numeric errors, setting alpha = 1.0e-10\n",
      "  'setting alpha = %.1e' % _ALPHA_MIN)\n",
      "/anaconda3/lib/python3.6/site-packages/sklearn/naive_bayes.py:480: UserWarning: alpha too small will result in numeric errors, setting alpha = 1.0e-10\n",
      "  'setting alpha = %.1e' % _ALPHA_MIN)\n",
      "/anaconda3/lib/python3.6/site-packages/sklearn/naive_bayes.py:480: UserWarning: alpha too small will result in numeric errors, setting alpha = 1.0e-10\n",
      "  'setting alpha = %.1e' % _ALPHA_MIN)\n",
      "/anaconda3/lib/python3.6/site-packages/sklearn/naive_bayes.py:480: UserWarning: alpha too small will result in numeric errors, setting alpha = 1.0e-10\n",
      "  'setting alpha = %.1e' % _ALPHA_MIN)\n",
      "/anaconda3/lib/python3.6/site-packages/sklearn/naive_bayes.py:480: UserWarning: alpha too small will result in numeric errors, setting alpha = 1.0e-10\n",
      "  'setting alpha = %.1e' % _ALPHA_MIN)\n",
      "/anaconda3/lib/python3.6/site-packages/sklearn/naive_bayes.py:480: UserWarning: alpha too small will result in numeric errors, setting alpha = 1.0e-10\n",
      "  'setting alpha = %.1e' % _ALPHA_MIN)\n",
      "/anaconda3/lib/python3.6/site-packages/sklearn/naive_bayes.py:480: UserWarning: alpha too small will result in numeric errors, setting alpha = 1.0e-10\n",
      "  'setting alpha = %.1e' % _ALPHA_MIN)\n",
      "[Parallel(n_jobs=1)]: Done  90 out of  90 | elapsed:   46.4s finished\n"
     ]
    },
    {
     "name": "stdout",
     "output_type": "stream",
     "text": [
      "0.983859649122807\n",
      "{'cv__max_features': 3500, 'cv__ngram_range': (1, 2), 'mnb__alpha': 1}\n",
      "CPU times: user 46.8 s, sys: 557 ms, total: 47.4 s\n",
      "Wall time: 47.4 s\n"
     ]
    }
   ],
   "source": [
    "%%time\n",
    "\n",
    "# gridsearchCV tests cross-validation for the parameters\n",
    "\n",
    "params = { \n",
    "#     'cvec__ngram_range': [(1, 1), (1, 2)]\n",
    "    'cv__max_features': [2500, 3000, 3500], \n",
    "    'cv__ngram_range': [(1, 1),(1,2)], \n",
    "    'mnb__alpha': [0, 0.25, 0.5, 0.75, 1]\n",
    "    # min_df\n",
    "    # max_df\n",
    "}\n",
    "gs = GridSearchCV(pipe, param_grid=params, cv=3, verbose=1)\n",
    "gs.fit(X_train, y_train)\n",
    "print(gs.best_score_)\n",
    "print(gs.best_params_)"
   ]
  },
  {
   "cell_type": "code",
   "execution_count": null,
   "metadata": {},
   "outputs": [],
   "source": []
  },
  {
   "cell_type": "code",
   "execution_count": null,
   "metadata": {},
   "outputs": [],
   "source": []
  },
  {
   "cell_type": "code",
   "execution_count": null,
   "metadata": {},
   "outputs": [],
   "source": []
  },
  {
   "cell_type": "code",
   "execution_count": null,
   "metadata": {},
   "outputs": [],
   "source": []
  }
 ],
 "metadata": {
  "kernelspec": {
   "display_name": "Python 3",
   "language": "python",
   "name": "python3"
  },
  "language_info": {
   "codemirror_mode": {
    "name": "ipython",
    "version": 3
   },
   "file_extension": ".py",
   "mimetype": "text/x-python",
   "name": "python",
   "nbconvert_exporter": "python",
   "pygments_lexer": "ipython3",
   "version": "3.6.8"
  }
 },
 "nbformat": 4,
 "nbformat_minor": 2
}
