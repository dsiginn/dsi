{
 "cells": [
  {
   "cell_type": "markdown",
   "metadata": {},
   "source": [
    "# Project 3: Web APIs & Classification\n",
    "\n"
   ]
  },
  {
   "cell_type": "code",
   "execution_count": 47,
   "metadata": {},
   "outputs": [],
   "source": [
    "import pandas as pd\n",
    "import regex as re\n",
    "import nltk\n",
    "\n",
    "from nltk.corpus import stopwords\n",
    "from nltk.stem import WordNetLemmatizer\n",
    "from nltk import  word_tokenize\n",
    "from sklearn.naive_bayes import MultinomialNB\n",
    "from sklearn.feature_extraction.text import CountVectorizer, TfidfVectorizer, TfidfTransformer\n",
    "from sklearn.metrics import classification_report\n",
    "from sklearn.pipeline import Pipeline\n",
    "from sklearn.model_selection import train_test_split, GridSearchCV\n",
    "from sklearn.linear_model import LogisticRegression\n",
    "\n",
    "pd.set_option('max_colwidth', 100000)"
   ]
  },
  {
   "cell_type": "code",
   "execution_count": 48,
   "metadata": {},
   "outputs": [],
   "source": [
    "nomil = pd.read_csv('../csv/nomil_clean.csv')\n",
    "family = pd.read_csv('../csv/family_clean.csv')"
   ]
  },
  {
   "cell_type": "code",
   "execution_count": 49,
   "metadata": {},
   "outputs": [],
   "source": [
    "result = pd.merge(nomil, family,how='outer')"
   ]
  },
  {
   "cell_type": "code",
   "execution_count": 50,
   "metadata": {},
   "outputs": [
    {
     "data": {
      "text/plain": [
       "selftext     1895\n",
       "subreddit    1895\n",
       "dtype: int64"
      ]
     },
     "execution_count": 50,
     "metadata": {},
     "output_type": "execute_result"
    }
   ],
   "source": [
    "result.count()"
   ]
  },
  {
   "cell_type": "markdown",
   "metadata": {},
   "source": [
    "## Data Cleaning"
   ]
  },
  {
   "cell_type": "code",
   "execution_count": 51,
   "metadata": {},
   "outputs": [],
   "source": [
    "def clean_text(text):\n",
    "    # remove HTML tags and URLs\n",
    "    text = re.sub(r'<.*?>', '', text)\n",
    "    text = re.sub(r'^https?:\\/\\/.*[\\r\\n]*','',text)\n",
    "    \n",
    "    # keep only text without punctuation\n",
    "    text = re.sub(r'[^\\w\\s]','',text)\n",
    "    \n",
    "    # convert text to lowercase\n",
    "    text = text.strip().lower()\n",
    "\n",
    "    # split text into a list of words\n",
    "    token_text = re.split('\\W+',text) #W+ --> word chars and dashes permitted\n",
    "    \n",
    "    return token_text"
   ]
  },
  {
   "cell_type": "code",
   "execution_count": 52,
   "metadata": {},
   "outputs": [
    {
     "data": {
      "text/html": [
       "<div>\n",
       "<style scoped>\n",
       "    .dataframe tbody tr th:only-of-type {\n",
       "        vertical-align: middle;\n",
       "    }\n",
       "\n",
       "    .dataframe tbody tr th {\n",
       "        vertical-align: top;\n",
       "    }\n",
       "\n",
       "    .dataframe thead th {\n",
       "        text-align: right;\n",
       "    }\n",
       "</style>\n",
       "<table border=\"1\" class=\"dataframe\">\n",
       "  <thead>\n",
       "    <tr style=\"text-align: right;\">\n",
       "      <th></th>\n",
       "      <th>selftext</th>\n",
       "      <th>subreddit</th>\n",
       "      <th>token</th>\n",
       "    </tr>\n",
       "  </thead>\n",
       "  <tbody>\n",
       "    <tr>\n",
       "      <th>0</th>\n",
       "      <td>Hello! You may have noticed more flairs around the sub lately. That's because we have listened to user feedback requesting ways to allow more open dialogue between OPs and commenters. To facilitate this, we have implemented a flair system that allows the OP to let our community know their situation and what level of feedback they are comfortable with. For our community, the OP can include a trigger warning with any of these. From now on, we will require all posts to have a flair. Any post that is not will either be taken down temporarily or have a flair assigned by a moderator. If your post is taken down, you will have to choose a flair and then contact the moderators via [ModMail](https://reddit.com/message/compose?to=/r/JUSTNOMIL) to have your post restored. To help you understand the flairs, I've included the descriptions of the flairs that you can find in the [JustNoMIL Wiki.](https://www.reddit.com/r/JUSTNOMIL/wiki/index)\\n\\nThe new language you will find in the Wiki is:\\n\\n&amp;gt;An OP can select one of the following flairs to tag a post. You are allowed to tailor your comments to fit *within reason.* Rule 5 remains in effect. Posts that are left without flair are subject to being temporarily removed, or having flair chosen for them, at moderator discretion. There are also trigger warning versions of each flair. **Trigger Warning** flairs dictate that the trigger warning be briefly described in the **first** sentence of the post.  \\n&amp;gt;  \\n&amp;gt;Old Story- NO Advice Wanted (*Rather self explanatory*)  \\n&amp;gt;  \\n&amp;gt;It's Handled- NO Advice Wanted (*While not exactly historical, the OP has the situation in hand and doesn't need advice.*)  \\n&amp;gt;  \\n&amp;gt;RANT- NO Advice Wanted (*Sometimes, you just need to get it out. What you don't need are pointers.*)  \\n&amp;gt;  \\n&amp;gt;RANT- Advice Wanted (*Sometimes, you need to get it out and then ask if you've missed something.*)  \\n&amp;gt;  \\n&amp;gt;TLC Needed (*For when you've had that hard day and you just need someone to give a damn.*)  \\n&amp;gt;  \\n&amp;gt;Advice Please! (*Pointers are welcome.*)  \\n&amp;gt;  \\n&amp;gt;LIVE Advice Please! (*For developing situations that need advice in a hurry.*)  \\n&amp;gt;  \\n&amp;gt;Gentle Advice Needed (*For those times that you need advice but are feeling a little sensitive.*)  \\n&amp;gt;  \\n&amp;gt;Am I the JustNO? (*Worried that you're the one who is behaving badly? Let your fellow community members help you figure that out. MILpologizing allowed within reason.*)  \\n&amp;gt;  \\n&amp;gt;Am I Overreacting? (*Is she a JustNo or isn't she? MILpologizing allowed within reason.*)  \\n&amp;gt;  \\n&amp;gt;Give It To Me Straight (*For when you need advice with a kick. MILpologizing allowed within reason.*)  \\n&amp;gt;  \\n&amp;gt;New User (*Be Gentle.*)  \\n&amp;gt;  \\n&amp;gt;Trigger Warnings should be used for Domestic/Interpersonal Violence, Child Abuse of any kind, Sexual Violence of any kind, Graphic descriptions of violent situations, Suicide, Hate Speech and the actions that go along with it, Pregnancy Loss and Loss of a Child.</td>\n",
       "      <td>JUSTNOMIL</td>\n",
       "      <td>[hello, you, may, have, noticed, more, flairs, around, the, sub, lately, thats, because, we, have, listened, to, user, feedback, requesting, ways, to, allow, more, open, dialogue, between, ops, and, commenters, to, facilitate, this, we, have, implemented, a, flair, system, that, allows, the, op, to, let, our, community, know, their, situation, and, what, level, of, feedback, they, are, comfortable, with, for, our, community, the, op, can, include, a, trigger, warning, with, any, of, these, from, now, on, we, will, require, all, posts, to, have, a, flair, any, post, that, is, not, will, either, be, taken, down, temporarily, or, have, a, flair, ...]</td>\n",
       "    </tr>\n",
       "  </tbody>\n",
       "</table>\n",
       "</div>"
      ],
      "text/plain": [
       "                                                                                                                                                                                                                                                                                                                                                                                                                                                                                                                                                                                                                                                                                                                                                                                                                                                                                                                                                                                                                                                                                                                                                                                                                                                                                                                                                                                                                                                                                                                                                                                                                                                                                                                                                                                                                                                                                                                                                                                                                                                                                                                                                                                                                                                                                                                                                                                                                                                                                                                                                                                                                                                                                                                                                                                                                                                                                                                                                                                                                                                                                                      selftext  \\\n",
       "0  Hello! You may have noticed more flairs around the sub lately. That's because we have listened to user feedback requesting ways to allow more open dialogue between OPs and commenters. To facilitate this, we have implemented a flair system that allows the OP to let our community know their situation and what level of feedback they are comfortable with. For our community, the OP can include a trigger warning with any of these. From now on, we will require all posts to have a flair. Any post that is not will either be taken down temporarily or have a flair assigned by a moderator. If your post is taken down, you will have to choose a flair and then contact the moderators via [ModMail](https://reddit.com/message/compose?to=/r/JUSTNOMIL) to have your post restored. To help you understand the flairs, I've included the descriptions of the flairs that you can find in the [JustNoMIL Wiki.](https://www.reddit.com/r/JUSTNOMIL/wiki/index)\\n\\nThe new language you will find in the Wiki is:\\n\\n&gt;An OP can select one of the following flairs to tag a post. You are allowed to tailor your comments to fit *within reason.* Rule 5 remains in effect. Posts that are left without flair are subject to being temporarily removed, or having flair chosen for them, at moderator discretion. There are also trigger warning versions of each flair. **Trigger Warning** flairs dictate that the trigger warning be briefly described in the **first** sentence of the post.  \\n&gt;  \\n&gt;Old Story- NO Advice Wanted (*Rather self explanatory*)  \\n&gt;  \\n&gt;It's Handled- NO Advice Wanted (*While not exactly historical, the OP has the situation in hand and doesn't need advice.*)  \\n&gt;  \\n&gt;RANT- NO Advice Wanted (*Sometimes, you just need to get it out. What you don't need are pointers.*)  \\n&gt;  \\n&gt;RANT- Advice Wanted (*Sometimes, you need to get it out and then ask if you've missed something.*)  \\n&gt;  \\n&gt;TLC Needed (*For when you've had that hard day and you just need someone to give a damn.*)  \\n&gt;  \\n&gt;Advice Please! (*Pointers are welcome.*)  \\n&gt;  \\n&gt;LIVE Advice Please! (*For developing situations that need advice in a hurry.*)  \\n&gt;  \\n&gt;Gentle Advice Needed (*For those times that you need advice but are feeling a little sensitive.*)  \\n&gt;  \\n&gt;Am I the JustNO? (*Worried that you're the one who is behaving badly? Let your fellow community members help you figure that out. MILpologizing allowed within reason.*)  \\n&gt;  \\n&gt;Am I Overreacting? (*Is she a JustNo or isn't she? MILpologizing allowed within reason.*)  \\n&gt;  \\n&gt;Give It To Me Straight (*For when you need advice with a kick. MILpologizing allowed within reason.*)  \\n&gt;  \\n&gt;New User (*Be Gentle.*)  \\n&gt;  \\n&gt;Trigger Warnings should be used for Domestic/Interpersonal Violence, Child Abuse of any kind, Sexual Violence of any kind, Graphic descriptions of violent situations, Suicide, Hate Speech and the actions that go along with it, Pregnancy Loss and Loss of a Child.   \n",
       "\n",
       "   subreddit  \\\n",
       "0  JUSTNOMIL   \n",
       "\n",
       "                                                                                                                                                                                                                                                                                                                                                                                                                                                                                                                                                                                                                                                                             token  \n",
       "0  [hello, you, may, have, noticed, more, flairs, around, the, sub, lately, thats, because, we, have, listened, to, user, feedback, requesting, ways, to, allow, more, open, dialogue, between, ops, and, commenters, to, facilitate, this, we, have, implemented, a, flair, system, that, allows, the, op, to, let, our, community, know, their, situation, and, what, level, of, feedback, they, are, comfortable, with, for, our, community, the, op, can, include, a, trigger, warning, with, any, of, these, from, now, on, we, will, require, all, posts, to, have, a, flair, any, post, that, is, not, will, either, be, taken, down, temporarily, or, have, a, flair, ...]  "
      ]
     },
     "execution_count": 52,
     "metadata": {},
     "output_type": "execute_result"
    }
   ],
   "source": [
    "#result = clean_text(result['selftext'])\n",
    "#result.selftext.head(1)\n",
    "\n",
    "result['token'] = result['selftext'].apply(lambda x: clean_text(x))\n",
    "result.head(1)"
   ]
  },
  {
   "cell_type": "code",
   "execution_count": 53,
   "metadata": {},
   "outputs": [
    {
     "name": "stdout",
     "output_type": "stream",
     "text": [
      "['i', 'me', 'my', 'myself', 'we', 'our', 'ours', 'ourselves', 'you', \"you're\", \"you've\", \"you'll\", \"you'd\", 'your', 'yours', 'yourself', 'yourselves', 'he', 'him', 'his', 'himself', 'she', \"she's\", 'her', 'hers', 'herself', 'it', \"it's\", 'its', 'itself', 'they', 'them', 'their', 'theirs', 'themselves', 'what', 'which', 'who', 'whom', 'this', 'that', \"that'll\", 'these', 'those', 'am', 'is', 'are', 'was', 'were', 'be', 'been', 'being', 'have', 'has', 'had', 'having', 'do', 'does', 'did', 'doing', 'a', 'an', 'the', 'and', 'but', 'if', 'or', 'because', 'as', 'until', 'while', 'of', 'at', 'by', 'for', 'with', 'about', 'against', 'between', 'into', 'through', 'during', 'before', 'after', 'above', 'below', 'to', 'from', 'up', 'down', 'in', 'out', 'on', 'off', 'over', 'under', 'again', 'further', 'then', 'once', 'here', 'there', 'when', 'where', 'why', 'how', 'all', 'any', 'both', 'each', 'few', 'more', 'most', 'other', 'some', 'such', 'no', 'nor', 'not', 'only', 'own', 'same', 'so', 'than', 'too', 'very', 's', 't', 'can', 'will', 'just', 'don', \"don't\", 'should', \"should've\", 'now', 'd', 'll', 'm', 'o', 're', 've', 'y', 'ain', 'aren', \"aren't\", 'couldn', \"couldn't\", 'didn', \"didn't\", 'doesn', \"doesn't\", 'hadn', \"hadn't\", 'hasn', \"hasn't\", 'haven', \"haven't\", 'isn', \"isn't\", 'ma', 'mightn', \"mightn't\", 'mustn', \"mustn't\", 'needn', \"needn't\", 'shan', \"shan't\", 'shouldn', \"shouldn't\", 'wasn', \"wasn't\", 'weren', \"weren't\", 'won', \"won't\", 'wouldn', \"wouldn't\"]\n"
     ]
    }
   ],
   "source": [
    "stop = stopwords.words('english')\n",
    "print(stop)"
   ]
  },
  {
   "cell_type": "code",
   "execution_count": 54,
   "metadata": {},
   "outputs": [
    {
     "data": {
      "text/html": [
       "<div>\n",
       "<style scoped>\n",
       "    .dataframe tbody tr th:only-of-type {\n",
       "        vertical-align: middle;\n",
       "    }\n",
       "\n",
       "    .dataframe tbody tr th {\n",
       "        vertical-align: top;\n",
       "    }\n",
       "\n",
       "    .dataframe thead th {\n",
       "        text-align: right;\n",
       "    }\n",
       "</style>\n",
       "<table border=\"1\" class=\"dataframe\">\n",
       "  <thead>\n",
       "    <tr style=\"text-align: right;\">\n",
       "      <th></th>\n",
       "      <th>selftext</th>\n",
       "      <th>subreddit</th>\n",
       "      <th>token</th>\n",
       "      <th>token_stop</th>\n",
       "    </tr>\n",
       "  </thead>\n",
       "  <tbody>\n",
       "    <tr>\n",
       "      <th>0</th>\n",
       "      <td>Hello! You may have noticed more flairs around the sub lately. That's because we have listened to user feedback requesting ways to allow more open dialogue between OPs and commenters. To facilitate this, we have implemented a flair system that allows the OP to let our community know their situation and what level of feedback they are comfortable with. For our community, the OP can include a trigger warning with any of these. From now on, we will require all posts to have a flair. Any post that is not will either be taken down temporarily or have a flair assigned by a moderator. If your post is taken down, you will have to choose a flair and then contact the moderators via [ModMail](https://reddit.com/message/compose?to=/r/JUSTNOMIL) to have your post restored. To help you understand the flairs, I've included the descriptions of the flairs that you can find in the [JustNoMIL Wiki.](https://www.reddit.com/r/JUSTNOMIL/wiki/index)\\n\\nThe new language you will find in the Wiki is:\\n\\n&amp;gt;An OP can select one of the following flairs to tag a post. You are allowed to tailor your comments to fit *within reason.* Rule 5 remains in effect. Posts that are left without flair are subject to being temporarily removed, or having flair chosen for them, at moderator discretion. There are also trigger warning versions of each flair. **Trigger Warning** flairs dictate that the trigger warning be briefly described in the **first** sentence of the post.  \\n&amp;gt;  \\n&amp;gt;Old Story- NO Advice Wanted (*Rather self explanatory*)  \\n&amp;gt;  \\n&amp;gt;It's Handled- NO Advice Wanted (*While not exactly historical, the OP has the situation in hand and doesn't need advice.*)  \\n&amp;gt;  \\n&amp;gt;RANT- NO Advice Wanted (*Sometimes, you just need to get it out. What you don't need are pointers.*)  \\n&amp;gt;  \\n&amp;gt;RANT- Advice Wanted (*Sometimes, you need to get it out and then ask if you've missed something.*)  \\n&amp;gt;  \\n&amp;gt;TLC Needed (*For when you've had that hard day and you just need someone to give a damn.*)  \\n&amp;gt;  \\n&amp;gt;Advice Please! (*Pointers are welcome.*)  \\n&amp;gt;  \\n&amp;gt;LIVE Advice Please! (*For developing situations that need advice in a hurry.*)  \\n&amp;gt;  \\n&amp;gt;Gentle Advice Needed (*For those times that you need advice but are feeling a little sensitive.*)  \\n&amp;gt;  \\n&amp;gt;Am I the JustNO? (*Worried that you're the one who is behaving badly? Let your fellow community members help you figure that out. MILpologizing allowed within reason.*)  \\n&amp;gt;  \\n&amp;gt;Am I Overreacting? (*Is she a JustNo or isn't she? MILpologizing allowed within reason.*)  \\n&amp;gt;  \\n&amp;gt;Give It To Me Straight (*For when you need advice with a kick. MILpologizing allowed within reason.*)  \\n&amp;gt;  \\n&amp;gt;New User (*Be Gentle.*)  \\n&amp;gt;  \\n&amp;gt;Trigger Warnings should be used for Domestic/Interpersonal Violence, Child Abuse of any kind, Sexual Violence of any kind, Graphic descriptions of violent situations, Suicide, Hate Speech and the actions that go along with it, Pregnancy Loss and Loss of a Child.</td>\n",
       "      <td>JUSTNOMIL</td>\n",
       "      <td>[hello, you, may, have, noticed, more, flairs, around, the, sub, lately, thats, because, we, have, listened, to, user, feedback, requesting, ways, to, allow, more, open, dialogue, between, ops, and, commenters, to, facilitate, this, we, have, implemented, a, flair, system, that, allows, the, op, to, let, our, community, know, their, situation, and, what, level, of, feedback, they, are, comfortable, with, for, our, community, the, op, can, include, a, trigger, warning, with, any, of, these, from, now, on, we, will, require, all, posts, to, have, a, flair, any, post, that, is, not, will, either, be, taken, down, temporarily, or, have, a, flair, ...]</td>\n",
       "      <td>[hello, may, noticed, flairs, around, sub, lately, thats, listened, user, feedback, requesting, ways, allow, open, dialogue, ops, commenters, facilitate, implemented, flair, system, allows, op, let, community, know, situation, level, feedback, comfortable, community, op, include, trigger, warning, require, posts, flair, post, either, taken, temporarily, flair, assigned, moderator, post, taken, choose, flair, contact, moderators, via, modmailhttpsredditcommessagecomposetorjustnomil, post, restored, help, understand, flairs, ive, included, descriptions, flairs, find, justnomil, wikihttpswwwredditcomrjustnomilwikiindex, new, language, find, wiki, gtan, op, select, one, following, flairs, tag, post, allowed, tailor, comments, fit, within, reason, rule, 5, remains, effect, posts, left, without, flair, subject, temporarily, removed, flair, chosen, moderator, discretion, also, ...]</td>\n",
       "    </tr>\n",
       "  </tbody>\n",
       "</table>\n",
       "</div>"
      ],
      "text/plain": [
       "                                                                                                                                                                                                                                                                                                                                                                                                                                                                                                                                                                                                                                                                                                                                                                                                                                                                                                                                                                                                                                                                                                                                                                                                                                                                                                                                                                                                                                                                                                                                                                                                                                                                                                                                                                                                                                                                                                                                                                                                                                                                                                                                                                                                                                                                                                                                                                                                                                                                                                                                                                                                                                                                                                                                                                                                                                                                                                                                                                                                                                                                                                      selftext  \\\n",
       "0  Hello! You may have noticed more flairs around the sub lately. That's because we have listened to user feedback requesting ways to allow more open dialogue between OPs and commenters. To facilitate this, we have implemented a flair system that allows the OP to let our community know their situation and what level of feedback they are comfortable with. For our community, the OP can include a trigger warning with any of these. From now on, we will require all posts to have a flair. Any post that is not will either be taken down temporarily or have a flair assigned by a moderator. If your post is taken down, you will have to choose a flair and then contact the moderators via [ModMail](https://reddit.com/message/compose?to=/r/JUSTNOMIL) to have your post restored. To help you understand the flairs, I've included the descriptions of the flairs that you can find in the [JustNoMIL Wiki.](https://www.reddit.com/r/JUSTNOMIL/wiki/index)\\n\\nThe new language you will find in the Wiki is:\\n\\n&gt;An OP can select one of the following flairs to tag a post. You are allowed to tailor your comments to fit *within reason.* Rule 5 remains in effect. Posts that are left without flair are subject to being temporarily removed, or having flair chosen for them, at moderator discretion. There are also trigger warning versions of each flair. **Trigger Warning** flairs dictate that the trigger warning be briefly described in the **first** sentence of the post.  \\n&gt;  \\n&gt;Old Story- NO Advice Wanted (*Rather self explanatory*)  \\n&gt;  \\n&gt;It's Handled- NO Advice Wanted (*While not exactly historical, the OP has the situation in hand and doesn't need advice.*)  \\n&gt;  \\n&gt;RANT- NO Advice Wanted (*Sometimes, you just need to get it out. What you don't need are pointers.*)  \\n&gt;  \\n&gt;RANT- Advice Wanted (*Sometimes, you need to get it out and then ask if you've missed something.*)  \\n&gt;  \\n&gt;TLC Needed (*For when you've had that hard day and you just need someone to give a damn.*)  \\n&gt;  \\n&gt;Advice Please! (*Pointers are welcome.*)  \\n&gt;  \\n&gt;LIVE Advice Please! (*For developing situations that need advice in a hurry.*)  \\n&gt;  \\n&gt;Gentle Advice Needed (*For those times that you need advice but are feeling a little sensitive.*)  \\n&gt;  \\n&gt;Am I the JustNO? (*Worried that you're the one who is behaving badly? Let your fellow community members help you figure that out. MILpologizing allowed within reason.*)  \\n&gt;  \\n&gt;Am I Overreacting? (*Is she a JustNo or isn't she? MILpologizing allowed within reason.*)  \\n&gt;  \\n&gt;Give It To Me Straight (*For when you need advice with a kick. MILpologizing allowed within reason.*)  \\n&gt;  \\n&gt;New User (*Be Gentle.*)  \\n&gt;  \\n&gt;Trigger Warnings should be used for Domestic/Interpersonal Violence, Child Abuse of any kind, Sexual Violence of any kind, Graphic descriptions of violent situations, Suicide, Hate Speech and the actions that go along with it, Pregnancy Loss and Loss of a Child.   \n",
       "\n",
       "   subreddit  \\\n",
       "0  JUSTNOMIL   \n",
       "\n",
       "                                                                                                                                                                                                                                                                                                                                                                                                                                                                                                                                                                                                                                                                             token  \\\n",
       "0  [hello, you, may, have, noticed, more, flairs, around, the, sub, lately, thats, because, we, have, listened, to, user, feedback, requesting, ways, to, allow, more, open, dialogue, between, ops, and, commenters, to, facilitate, this, we, have, implemented, a, flair, system, that, allows, the, op, to, let, our, community, know, their, situation, and, what, level, of, feedback, they, are, comfortable, with, for, our, community, the, op, can, include, a, trigger, warning, with, any, of, these, from, now, on, we, will, require, all, posts, to, have, a, flair, any, post, that, is, not, will, either, be, taken, down, temporarily, or, have, a, flair, ...]   \n",
       "\n",
       "                                                                                                                                                                                                                                                                                                                                                                                                                                                                                                                                                                                                                                                                                                                                                                                                                                                                                                                token_stop  \n",
       "0  [hello, may, noticed, flairs, around, sub, lately, thats, listened, user, feedback, requesting, ways, allow, open, dialogue, ops, commenters, facilitate, implemented, flair, system, allows, op, let, community, know, situation, level, feedback, comfortable, community, op, include, trigger, warning, require, posts, flair, post, either, taken, temporarily, flair, assigned, moderator, post, taken, choose, flair, contact, moderators, via, modmailhttpsredditcommessagecomposetorjustnomil, post, restored, help, understand, flairs, ive, included, descriptions, flairs, find, justnomil, wikihttpswwwredditcomrjustnomilwikiindex, new, language, find, wiki, gtan, op, select, one, following, flairs, tag, post, allowed, tailor, comments, fit, within, reason, rule, 5, remains, effect, posts, left, without, flair, subject, temporarily, removed, flair, chosen, moderator, discretion, also, ...]  "
      ]
     },
     "execution_count": 54,
     "metadata": {},
     "output_type": "execute_result"
    }
   ],
   "source": [
    "result['token_stop'] = result['token'].apply(lambda x: [item for item in x if item not in stop])\n",
    "result.head(1)"
   ]
  },
  {
   "cell_type": "code",
   "execution_count": 55,
   "metadata": {},
   "outputs": [
    {
     "data": {
      "text/html": [
       "<div>\n",
       "<style scoped>\n",
       "    .dataframe tbody tr th:only-of-type {\n",
       "        vertical-align: middle;\n",
       "    }\n",
       "\n",
       "    .dataframe tbody tr th {\n",
       "        vertical-align: top;\n",
       "    }\n",
       "\n",
       "    .dataframe thead th {\n",
       "        text-align: right;\n",
       "    }\n",
       "</style>\n",
       "<table border=\"1\" class=\"dataframe\">\n",
       "  <thead>\n",
       "    <tr style=\"text-align: right;\">\n",
       "      <th></th>\n",
       "      <th>token_stop</th>\n",
       "      <th>subreddit</th>\n",
       "    </tr>\n",
       "  </thead>\n",
       "  <tbody>\n",
       "    <tr>\n",
       "      <th>0</th>\n",
       "      <td>[hello, may, noticed, flairs, around, sub, lately, thats, listened, user, feedback, requesting, ways, allow, open, dialogue, ops, commenters, facilitate, implemented, flair, system, allows, op, let, community, know, situation, level, feedback, comfortable, community, op, include, trigger, warning, require, posts, flair, post, either, taken, temporarily, flair, assigned, moderator, post, taken, choose, flair, contact, moderators, via, modmailhttpsredditcommessagecomposetorjustnomil, post, restored, help, understand, flairs, ive, included, descriptions, flairs, find, justnomil, wikihttpswwwredditcomrjustnomilwikiindex, new, language, find, wiki, gtan, op, select, one, following, flairs, tag, post, allowed, tailor, comments, fit, within, reason, rule, 5, remains, effect, posts, left, without, flair, subject, temporarily, removed, flair, chosen, moderator, discretion, also, ...]</td>\n",
       "      <td>JUSTNOMIL</td>\n",
       "    </tr>\n",
       "    <tr>\n",
       "      <th>1</th>\n",
       "      <td>[mil, suck, dont, feel, like, making, entire, post, bec, want, vent, crumbs, carpet, moment, post]</td>\n",
       "      <td>JUSTNOMIL</td>\n",
       "    </tr>\n",
       "    <tr>\n",
       "      <th>2</th>\n",
       "      <td>[story, growing, spine, older, one, ill, share, anyone, shining, spine, motivational, missive, maybe, hope, enjoy, ampx200b, ampx200b, baby, like, doesnt, feel, like, terribly, long, ago, kid, ten, things, definitely, changed, since, back, days, didnt, fancy, video, baby, monitors, breathing, sensors, amazing, fancy, things, new, moms, get, days, simple, baby, monitor, base, babys, room, receiver, either, bedroom, living, room, wherever, pretty, good, monitor, could, definitely, hear, going, babys, room, story, begins, ampx200b, parents, visiting, didnt, know, justno, time, knew, biological, father, abusive, hence, restraining, orders, mom, much, better, didnt, ever, think, question, said, became, mother, bets, lost, first, baby, nobody, going, ...]</td>\n",
       "      <td>JUSTNOMIL</td>\n",
       "    </tr>\n",
       "  </tbody>\n",
       "</table>\n",
       "</div>"
      ],
      "text/plain": [
       "                                                                                                                                                                                                                                                                                                                                                                                                                                                                                                                                                                                                                                                                                                                                                                                                                                                                                                                token_stop  \\\n",
       "0  [hello, may, noticed, flairs, around, sub, lately, thats, listened, user, feedback, requesting, ways, allow, open, dialogue, ops, commenters, facilitate, implemented, flair, system, allows, op, let, community, know, situation, level, feedback, comfortable, community, op, include, trigger, warning, require, posts, flair, post, either, taken, temporarily, flair, assigned, moderator, post, taken, choose, flair, contact, moderators, via, modmailhttpsredditcommessagecomposetorjustnomil, post, restored, help, understand, flairs, ive, included, descriptions, flairs, find, justnomil, wikihttpswwwredditcomrjustnomilwikiindex, new, language, find, wiki, gtan, op, select, one, following, flairs, tag, post, allowed, tailor, comments, fit, within, reason, rule, 5, remains, effect, posts, left, without, flair, subject, temporarily, removed, flair, chosen, moderator, discretion, also, ...]   \n",
       "1                                                                                                                                                                                                                                                                                                                                                                                                                                                                                                                                                                                                                                                                                                                                                                                                                       [mil, suck, dont, feel, like, making, entire, post, bec, want, vent, crumbs, carpet, moment, post]   \n",
       "2                                                                                                                                  [story, growing, spine, older, one, ill, share, anyone, shining, spine, motivational, missive, maybe, hope, enjoy, ampx200b, ampx200b, baby, like, doesnt, feel, like, terribly, long, ago, kid, ten, things, definitely, changed, since, back, days, didnt, fancy, video, baby, monitors, breathing, sensors, amazing, fancy, things, new, moms, get, days, simple, baby, monitor, base, babys, room, receiver, either, bedroom, living, room, wherever, pretty, good, monitor, could, definitely, hear, going, babys, room, story, begins, ampx200b, parents, visiting, didnt, know, justno, time, knew, biological, father, abusive, hence, restraining, orders, mom, much, better, didnt, ever, think, question, said, became, mother, bets, lost, first, baby, nobody, going, ...]   \n",
       "\n",
       "   subreddit  \n",
       "0  JUSTNOMIL  \n",
       "1  JUSTNOMIL  \n",
       "2  JUSTNOMIL  "
      ]
     },
     "execution_count": 55,
     "metadata": {},
     "output_type": "execute_result"
    }
   ],
   "source": [
    "result.columns\n",
    "feature = ['token_stop', 'subreddit']\n",
    "result = result[feature]\n",
    "result.head(3)"
   ]
  },
  {
   "cell_type": "markdown",
   "metadata": {},
   "source": [
    "## Lemmatization & Stop word"
   ]
  },
  {
   "cell_type": "code",
   "execution_count": 56,
   "metadata": {},
   "outputs": [],
   "source": [
    "lemmatizer = WordNetLemmatizer()\n",
    "def lemmatize_words(text):\n",
    "    lemma_words = [lemmatizer.lemmatize(word) for word in text]\n",
    "    return lemma_words"
   ]
  },
  {
   "cell_type": "code",
   "execution_count": 57,
   "metadata": {},
   "outputs": [],
   "source": [
    "result['token_stop1'] = result['token_stop'].apply(lambda x: lemmatize_words(x))"
   ]
  },
  {
   "cell_type": "code",
   "execution_count": 58,
   "metadata": {},
   "outputs": [
    {
     "data": {
      "text/html": [
       "<div>\n",
       "<style scoped>\n",
       "    .dataframe tbody tr th:only-of-type {\n",
       "        vertical-align: middle;\n",
       "    }\n",
       "\n",
       "    .dataframe tbody tr th {\n",
       "        vertical-align: top;\n",
       "    }\n",
       "\n",
       "    .dataframe thead th {\n",
       "        text-align: right;\n",
       "    }\n",
       "</style>\n",
       "<table border=\"1\" class=\"dataframe\">\n",
       "  <thead>\n",
       "    <tr style=\"text-align: right;\">\n",
       "      <th></th>\n",
       "      <th>token_stop</th>\n",
       "      <th>subreddit</th>\n",
       "      <th>token_stop1</th>\n",
       "    </tr>\n",
       "  </thead>\n",
       "  <tbody>\n",
       "    <tr>\n",
       "      <th>0</th>\n",
       "      <td>[hello, may, noticed, flairs, around, sub, lately, thats, listened, user, feedback, requesting, ways, allow, open, dialogue, ops, commenters, facilitate, implemented, flair, system, allows, op, let, community, know, situation, level, feedback, comfortable, community, op, include, trigger, warning, require, posts, flair, post, either, taken, temporarily, flair, assigned, moderator, post, taken, choose, flair, contact, moderators, via, modmailhttpsredditcommessagecomposetorjustnomil, post, restored, help, understand, flairs, ive, included, descriptions, flairs, find, justnomil, wikihttpswwwredditcomrjustnomilwikiindex, new, language, find, wiki, gtan, op, select, one, following, flairs, tag, post, allowed, tailor, comments, fit, within, reason, rule, 5, remains, effect, posts, left, without, flair, subject, temporarily, removed, flair, chosen, moderator, discretion, also, ...]</td>\n",
       "      <td>JUSTNOMIL</td>\n",
       "      <td>[hello, may, noticed, flair, around, sub, lately, thats, listened, user, feedback, requesting, way, allow, open, dialogue, ops, commenters, facilitate, implemented, flair, system, allows, op, let, community, know, situation, level, feedback, comfortable, community, op, include, trigger, warning, require, post, flair, post, either, taken, temporarily, flair, assigned, moderator, post, taken, choose, flair, contact, moderator, via, modmailhttpsredditcommessagecomposetorjustnomil, post, restored, help, understand, flair, ive, included, description, flair, find, justnomil, wikihttpswwwredditcomrjustnomilwikiindex, new, language, find, wiki, gtan, op, select, one, following, flair, tag, post, allowed, tailor, comment, fit, within, reason, rule, 5, remains, effect, post, left, without, flair, subject, temporarily, removed, flair, chosen, moderator, discretion, also, ...]</td>\n",
       "    </tr>\n",
       "  </tbody>\n",
       "</table>\n",
       "</div>"
      ],
      "text/plain": [
       "                                                                                                                                                                                                                                                                                                                                                                                                                                                                                                                                                                                                                                                                                                                                                                                                                                                                                                                token_stop  \\\n",
       "0  [hello, may, noticed, flairs, around, sub, lately, thats, listened, user, feedback, requesting, ways, allow, open, dialogue, ops, commenters, facilitate, implemented, flair, system, allows, op, let, community, know, situation, level, feedback, comfortable, community, op, include, trigger, warning, require, posts, flair, post, either, taken, temporarily, flair, assigned, moderator, post, taken, choose, flair, contact, moderators, via, modmailhttpsredditcommessagecomposetorjustnomil, post, restored, help, understand, flairs, ive, included, descriptions, flairs, find, justnomil, wikihttpswwwredditcomrjustnomilwikiindex, new, language, find, wiki, gtan, op, select, one, following, flairs, tag, post, allowed, tailor, comments, fit, within, reason, rule, 5, remains, effect, posts, left, without, flair, subject, temporarily, removed, flair, chosen, moderator, discretion, also, ...]   \n",
       "\n",
       "   subreddit  \\\n",
       "0  JUSTNOMIL   \n",
       "\n",
       "                                                                                                                                                                                                                                                                                                                                                                                                                                                                                                                                                                                                                                                                                                                                                                                                                                                                                                     token_stop1  \n",
       "0  [hello, may, noticed, flair, around, sub, lately, thats, listened, user, feedback, requesting, way, allow, open, dialogue, ops, commenters, facilitate, implemented, flair, system, allows, op, let, community, know, situation, level, feedback, comfortable, community, op, include, trigger, warning, require, post, flair, post, either, taken, temporarily, flair, assigned, moderator, post, taken, choose, flair, contact, moderator, via, modmailhttpsredditcommessagecomposetorjustnomil, post, restored, help, understand, flair, ive, included, description, flair, find, justnomil, wikihttpswwwredditcomrjustnomilwikiindex, new, language, find, wiki, gtan, op, select, one, following, flair, tag, post, allowed, tailor, comment, fit, within, reason, rule, 5, remains, effect, post, left, without, flair, subject, temporarily, removed, flair, chosen, moderator, discretion, also, ...]  "
      ]
     },
     "execution_count": 58,
     "metadata": {},
     "output_type": "execute_result"
    }
   ],
   "source": [
    "result.head(1)"
   ]
  },
  {
   "cell_type": "code",
   "execution_count": 59,
   "metadata": {},
   "outputs": [],
   "source": [
    "result['token_stop1'] = result['token_stop1'].apply(lambda x: \",\".join(x))"
   ]
  },
  {
   "cell_type": "code",
   "execution_count": 60,
   "metadata": {},
   "outputs": [
    {
     "data": {
      "text/html": [
       "<div>\n",
       "<style scoped>\n",
       "    .dataframe tbody tr th:only-of-type {\n",
       "        vertical-align: middle;\n",
       "    }\n",
       "\n",
       "    .dataframe tbody tr th {\n",
       "        vertical-align: top;\n",
       "    }\n",
       "\n",
       "    .dataframe thead th {\n",
       "        text-align: right;\n",
       "    }\n",
       "</style>\n",
       "<table border=\"1\" class=\"dataframe\">\n",
       "  <thead>\n",
       "    <tr style=\"text-align: right;\">\n",
       "      <th></th>\n",
       "      <th>token_stop</th>\n",
       "      <th>subreddit</th>\n",
       "      <th>token_stop1</th>\n",
       "    </tr>\n",
       "  </thead>\n",
       "  <tbody>\n",
       "    <tr>\n",
       "      <th>0</th>\n",
       "      <td>[hello, may, noticed, flairs, around, sub, lately, thats, listened, user, feedback, requesting, ways, allow, open, dialogue, ops, commenters, facilitate, implemented, flair, system, allows, op, let, community, know, situation, level, feedback, comfortable, community, op, include, trigger, warning, require, posts, flair, post, either, taken, temporarily, flair, assigned, moderator, post, taken, choose, flair, contact, moderators, via, modmailhttpsredditcommessagecomposetorjustnomil, post, restored, help, understand, flairs, ive, included, descriptions, flairs, find, justnomil, wikihttpswwwredditcomrjustnomilwikiindex, new, language, find, wiki, gtan, op, select, one, following, flairs, tag, post, allowed, tailor, comments, fit, within, reason, rule, 5, remains, effect, posts, left, without, flair, subject, temporarily, removed, flair, chosen, moderator, discretion, also, ...]</td>\n",
       "      <td>JUSTNOMIL</td>\n",
       "      <td>hello,may,noticed,flair,around,sub,lately,thats,listened,user,feedback,requesting,way,allow,open,dialogue,ops,commenters,facilitate,implemented,flair,system,allows,op,let,community,know,situation,level,feedback,comfortable,community,op,include,trigger,warning,require,post,flair,post,either,taken,temporarily,flair,assigned,moderator,post,taken,choose,flair,contact,moderator,via,modmailhttpsredditcommessagecomposetorjustnomil,post,restored,help,understand,flair,ive,included,description,flair,find,justnomil,wikihttpswwwredditcomrjustnomilwikiindex,new,language,find,wiki,gtan,op,select,one,following,flair,tag,post,allowed,tailor,comment,fit,within,reason,rule,5,remains,effect,post,left,without,flair,subject,temporarily,removed,flair,chosen,moderator,discretion,also,trigger,warning,version,flair,trigger,warning,flair,dictate,trigger,warning,briefly,described,first,sentence,post,gt,gtold,story,advice,wanted,rather,self,explanatory,gt,gtits,handled,advice,wanted,exactly,historical,op,situation,hand,doesnt,need,advice,gt,gtrant,advice,wanted,sometimes,need,get,dont,need,pointer,gt,gtrant,advice,wanted,sometimes,need,get,ask,youve,missed,something,gt,gttlc,needed,youve,hard,day,need,someone,give,damn,gt,gtadvice,please,pointer,welcome,gt,gtlive,advice,please,developing,situation,need,advice,hurry,gt,gtgentle,advice,needed,time,need,advice,feeling,little,sensitive,gt,gtam,justno,worried,youre,one,behaving,badly,let,fellow,community,member,help,figure,milpologizing,allowed,within,reason,gt,gtam,overreacting,justno,isnt,milpologizing,allowed,within,reason,gt,gtgive,straight,need,advice,kick,milpologizing,allowed,within,reason,gt,gtnew,user,gentle,gt,gttrigger,warning,used,domesticinterpersonal,violence,child,abuse,kind,sexual,violence,kind,graphic,description,violent,situation,suicide,hate,speech,action,go,along,pregnancy,loss,loss,child</td>\n",
       "    </tr>\n",
       "  </tbody>\n",
       "</table>\n",
       "</div>"
      ],
      "text/plain": [
       "                                                                                                                                                                                                                                                                                                                                                                                                                                                                                                                                                                                                                                                                                                                                                                                                                                                                                                                token_stop  \\\n",
       "0  [hello, may, noticed, flairs, around, sub, lately, thats, listened, user, feedback, requesting, ways, allow, open, dialogue, ops, commenters, facilitate, implemented, flair, system, allows, op, let, community, know, situation, level, feedback, comfortable, community, op, include, trigger, warning, require, posts, flair, post, either, taken, temporarily, flair, assigned, moderator, post, taken, choose, flair, contact, moderators, via, modmailhttpsredditcommessagecomposetorjustnomil, post, restored, help, understand, flairs, ive, included, descriptions, flairs, find, justnomil, wikihttpswwwredditcomrjustnomilwikiindex, new, language, find, wiki, gtan, op, select, one, following, flairs, tag, post, allowed, tailor, comments, fit, within, reason, rule, 5, remains, effect, posts, left, without, flair, subject, temporarily, removed, flair, chosen, moderator, discretion, also, ...]   \n",
       "\n",
       "   subreddit  \\\n",
       "0  JUSTNOMIL   \n",
       "\n",
       "                                                                                                                                                                                                                                                                                                                                                                                                                                                                                                                                                                                                                                                                                                                                                                                                                                                                                                                                                                                                                                                                                                                                                                                                                                                                                                                                                                                                                                                                                                                                                                                                                                                                                                                                                                                                                                                                                                                         token_stop1  \n",
       "0  hello,may,noticed,flair,around,sub,lately,thats,listened,user,feedback,requesting,way,allow,open,dialogue,ops,commenters,facilitate,implemented,flair,system,allows,op,let,community,know,situation,level,feedback,comfortable,community,op,include,trigger,warning,require,post,flair,post,either,taken,temporarily,flair,assigned,moderator,post,taken,choose,flair,contact,moderator,via,modmailhttpsredditcommessagecomposetorjustnomil,post,restored,help,understand,flair,ive,included,description,flair,find,justnomil,wikihttpswwwredditcomrjustnomilwikiindex,new,language,find,wiki,gtan,op,select,one,following,flair,tag,post,allowed,tailor,comment,fit,within,reason,rule,5,remains,effect,post,left,without,flair,subject,temporarily,removed,flair,chosen,moderator,discretion,also,trigger,warning,version,flair,trigger,warning,flair,dictate,trigger,warning,briefly,described,first,sentence,post,gt,gtold,story,advice,wanted,rather,self,explanatory,gt,gtits,handled,advice,wanted,exactly,historical,op,situation,hand,doesnt,need,advice,gt,gtrant,advice,wanted,sometimes,need,get,dont,need,pointer,gt,gtrant,advice,wanted,sometimes,need,get,ask,youve,missed,something,gt,gttlc,needed,youve,hard,day,need,someone,give,damn,gt,gtadvice,please,pointer,welcome,gt,gtlive,advice,please,developing,situation,need,advice,hurry,gt,gtgentle,advice,needed,time,need,advice,feeling,little,sensitive,gt,gtam,justno,worried,youre,one,behaving,badly,let,fellow,community,member,help,figure,milpologizing,allowed,within,reason,gt,gtam,overreacting,justno,isnt,milpologizing,allowed,within,reason,gt,gtgive,straight,need,advice,kick,milpologizing,allowed,within,reason,gt,gtnew,user,gentle,gt,gttrigger,warning,used,domesticinterpersonal,violence,child,abuse,kind,sexual,violence,kind,graphic,description,violent,situation,suicide,hate,speech,action,go,along,pregnancy,loss,loss,child  "
      ]
     },
     "execution_count": 60,
     "metadata": {},
     "output_type": "execute_result"
    }
   ],
   "source": [
    "result.head(1)"
   ]
  },
  {
   "cell_type": "code",
   "execution_count": 61,
   "metadata": {},
   "outputs": [
    {
     "data": {
      "text/html": [
       "<div>\n",
       "<style scoped>\n",
       "    .dataframe tbody tr th:only-of-type {\n",
       "        vertical-align: middle;\n",
       "    }\n",
       "\n",
       "    .dataframe tbody tr th {\n",
       "        vertical-align: top;\n",
       "    }\n",
       "\n",
       "    .dataframe thead th {\n",
       "        text-align: right;\n",
       "    }\n",
       "</style>\n",
       "<table border=\"1\" class=\"dataframe\">\n",
       "  <thead>\n",
       "    <tr style=\"text-align: right;\">\n",
       "      <th></th>\n",
       "      <th>token_stop1</th>\n",
       "      <th>subreddit</th>\n",
       "    </tr>\n",
       "  </thead>\n",
       "  <tbody>\n",
       "    <tr>\n",
       "      <th>0</th>\n",
       "      <td>hello,may,noticed,flair,around,sub,lately,thats,listened,user,feedback,requesting,way,allow,open,dialogue,ops,commenters,facilitate,implemented,flair,system,allows,op,let,community,know,situation,level,feedback,comfortable,community,op,include,trigger,warning,require,post,flair,post,either,taken,temporarily,flair,assigned,moderator,post,taken,choose,flair,contact,moderator,via,modmailhttpsredditcommessagecomposetorjustnomil,post,restored,help,understand,flair,ive,included,description,flair,find,justnomil,wikihttpswwwredditcomrjustnomilwikiindex,new,language,find,wiki,gtan,op,select,one,following,flair,tag,post,allowed,tailor,comment,fit,within,reason,rule,5,remains,effect,post,left,without,flair,subject,temporarily,removed,flair,chosen,moderator,discretion,also,trigger,warning,version,flair,trigger,warning,flair,dictate,trigger,warning,briefly,described,first,sentence,post,gt,gtold,story,advice,wanted,rather,self,explanatory,gt,gtits,handled,advice,wanted,exactly,historical,op,situation,hand,doesnt,need,advice,gt,gtrant,advice,wanted,sometimes,need,get,dont,need,pointer,gt,gtrant,advice,wanted,sometimes,need,get,ask,youve,missed,something,gt,gttlc,needed,youve,hard,day,need,someone,give,damn,gt,gtadvice,please,pointer,welcome,gt,gtlive,advice,please,developing,situation,need,advice,hurry,gt,gtgentle,advice,needed,time,need,advice,feeling,little,sensitive,gt,gtam,justno,worried,youre,one,behaving,badly,let,fellow,community,member,help,figure,milpologizing,allowed,within,reason,gt,gtam,overreacting,justno,isnt,milpologizing,allowed,within,reason,gt,gtgive,straight,need,advice,kick,milpologizing,allowed,within,reason,gt,gtnew,user,gentle,gt,gttrigger,warning,used,domesticinterpersonal,violence,child,abuse,kind,sexual,violence,kind,graphic,description,violent,situation,suicide,hate,speech,action,go,along,pregnancy,loss,loss,child</td>\n",
       "      <td>JUSTNOMIL</td>\n",
       "    </tr>\n",
       "  </tbody>\n",
       "</table>\n",
       "</div>"
      ],
      "text/plain": [
       "                                                                                                                                                                                                                                                                                                                                                                                                                                                                                                                                                                                                                                                                                                                                                                                                                                                                                                                                                                                                                                                                                                                                                                                                                                                                                                                                                                                                                                                                                                                                                                                                                                                                                                                                                                                                                                                                                                                         token_stop1  \\\n",
       "0  hello,may,noticed,flair,around,sub,lately,thats,listened,user,feedback,requesting,way,allow,open,dialogue,ops,commenters,facilitate,implemented,flair,system,allows,op,let,community,know,situation,level,feedback,comfortable,community,op,include,trigger,warning,require,post,flair,post,either,taken,temporarily,flair,assigned,moderator,post,taken,choose,flair,contact,moderator,via,modmailhttpsredditcommessagecomposetorjustnomil,post,restored,help,understand,flair,ive,included,description,flair,find,justnomil,wikihttpswwwredditcomrjustnomilwikiindex,new,language,find,wiki,gtan,op,select,one,following,flair,tag,post,allowed,tailor,comment,fit,within,reason,rule,5,remains,effect,post,left,without,flair,subject,temporarily,removed,flair,chosen,moderator,discretion,also,trigger,warning,version,flair,trigger,warning,flair,dictate,trigger,warning,briefly,described,first,sentence,post,gt,gtold,story,advice,wanted,rather,self,explanatory,gt,gtits,handled,advice,wanted,exactly,historical,op,situation,hand,doesnt,need,advice,gt,gtrant,advice,wanted,sometimes,need,get,dont,need,pointer,gt,gtrant,advice,wanted,sometimes,need,get,ask,youve,missed,something,gt,gttlc,needed,youve,hard,day,need,someone,give,damn,gt,gtadvice,please,pointer,welcome,gt,gtlive,advice,please,developing,situation,need,advice,hurry,gt,gtgentle,advice,needed,time,need,advice,feeling,little,sensitive,gt,gtam,justno,worried,youre,one,behaving,badly,let,fellow,community,member,help,figure,milpologizing,allowed,within,reason,gt,gtam,overreacting,justno,isnt,milpologizing,allowed,within,reason,gt,gtgive,straight,need,advice,kick,milpologizing,allowed,within,reason,gt,gtnew,user,gentle,gt,gttrigger,warning,used,domesticinterpersonal,violence,child,abuse,kind,sexual,violence,kind,graphic,description,violent,situation,suicide,hate,speech,action,go,along,pregnancy,loss,loss,child   \n",
       "\n",
       "   subreddit  \n",
       "0  JUSTNOMIL  "
      ]
     },
     "execution_count": 61,
     "metadata": {},
     "output_type": "execute_result"
    }
   ],
   "source": [
    "feature = ['token_stop1', 'subreddit']\n",
    "result = result[feature]\n",
    "result.head(1)"
   ]
  },
  {
   "cell_type": "code",
   "execution_count": 62,
   "metadata": {},
   "outputs": [
    {
     "data": {
      "text/plain": [
       "JUSTNOMIL    0.501319\n",
       "family       0.498681\n",
       "Name: subreddit, dtype: float64"
      ]
     },
     "execution_count": 62,
     "metadata": {},
     "output_type": "execute_result"
    }
   ],
   "source": [
    "#Baseline\n",
    "result['subreddit'].value_counts(normalize=True)"
   ]
  },
  {
   "cell_type": "markdown",
   "metadata": {},
   "source": [
    "## Train/Test split"
   ]
  },
  {
   "cell_type": "code",
   "execution_count": 63,
   "metadata": {},
   "outputs": [],
   "source": [
    "#Assignment of target\n",
    "X = result['token_stop1']\n",
    "y = result['subreddit']\n",
    "\n",
    "#Train test split\n",
    "X_train, X_test, y_train, y_test = train_test_split(X, y, random_state=42, stratify = y)"
   ]
  },
  {
   "cell_type": "markdown",
   "metadata": {},
   "source": [
    "### 1) Logistic Regression"
   ]
  },
  {
   "cell_type": "code",
   "execution_count": 64,
   "metadata": {},
   "outputs": [
    {
     "name": "stderr",
     "output_type": "stream",
     "text": [
      "/anaconda3/lib/python3.6/site-packages/sklearn/linear_model/logistic.py:433: FutureWarning: Default solver will be changed to 'lbfgs' in 0.22. Specify a solver to silence this warning.\n",
      "  FutureWarning)\n"
     ]
    },
    {
     "name": "stdout",
     "output_type": "stream",
     "text": [
      "0.9627023223082336\n",
      "0.8881856540084389\n",
      "              precision    recall  f1-score   support\n",
      "\n",
      "   JUSTNOMIL       0.91      0.86      0.89       238\n",
      "      family       0.86      0.92      0.89       236\n",
      "\n",
      "   micro avg       0.89      0.89      0.89       474\n",
      "   macro avg       0.89      0.89      0.89       474\n",
      "weighted avg       0.89      0.89      0.89       474\n",
      "\n"
     ]
    }
   ],
   "source": [
    "## Baseline Logistic Regression\n",
    "#Creation of pipeline\n",
    "logpipe = Pipeline([('cv', CountVectorizer()),\n",
    "                 ('tfidf',TfidfTransformer()),\n",
    "                 ('lr', LogisticRegression())])\n",
    "# Fit your model\n",
    "logpipe.fit(X_train, y_train)\n",
    "\n",
    "# Training score\n",
    "print(logpipe.score(X_train, y_train))\n",
    "# Test score\n",
    "print(logpipe.score(X_test, y_test))\n",
    "\n",
    "y_pred_ = logpipe.predict(X_test)\n",
    "print(classification_report(y_test,y_pred_))"
   ]
  },
  {
   "cell_type": "markdown",
   "metadata": {},
   "source": [
    "### Parameters tuning: Logistic Regression"
   ]
  },
  {
   "cell_type": "code",
   "execution_count": 65,
   "metadata": {},
   "outputs": [
    {
     "name": "stderr",
     "output_type": "stream",
     "text": [
      "/anaconda3/lib/python3.6/site-packages/sklearn/linear_model/logistic.py:433: FutureWarning: Default solver will be changed to 'lbfgs' in 0.22. Specify a solver to silence this warning.\n",
      "  FutureWarning)\n"
     ]
    },
    {
     "name": "stdout",
     "output_type": "stream",
     "text": [
      "0.8676988036593948\n",
      "{'cv__max_df': 0.9, 'cv__max_features': 300, 'cv__min_df': 2, 'cv__ngram_range': (1, 1)}\n",
      "              precision    recall  f1-score   support\n",
      "\n",
      "   JUSTNOMIL       0.89      0.84      0.87       238\n",
      "      family       0.85      0.90      0.87       236\n",
      "\n",
      "   micro avg       0.87      0.87      0.87       474\n",
      "   macro avg       0.87      0.87      0.87       474\n",
      "weighted avg       0.87      0.87      0.87       474\n",
      "\n",
      "CPU times: user 4min 47s, sys: 5.93 s, total: 4min 53s\n",
      "Wall time: 4min 53s\n"
     ]
    }
   ],
   "source": [
    "%%time\n",
    "pipe_params = {\n",
    "    'cv__max_features': [50, 100, 200, 300],\n",
    "    'cv__min_df': [2, 3],\n",
    "    'cv__max_df': [.9, .95],\n",
    "    'cv__ngram_range': [(1,1), (1,2), (1,3), (1,4)],\n",
    "    #'cv__penalty': ['l1', 'l2']\n",
    "    }\n",
    "                        \n",
    "gs = GridSearchCV(logpipe, param_grid=pipe_params, cv=3)\n",
    "gs.fit(X_train, y_train)\n",
    "print(gs.best_score_)\n",
    "print(gs.best_params_)\n",
    "y_pred_log = gs.predict(X_test)\n",
    "print(classification_report(y_test,y_pred_log))"
   ]
  },
  {
   "cell_type": "markdown",
   "metadata": {},
   "source": [
    "### 2) MultiNomial NB"
   ]
  },
  {
   "cell_type": "code",
   "execution_count": 66,
   "metadata": {},
   "outputs": [
    {
     "name": "stdout",
     "output_type": "stream",
     "text": [
      "train score: 0.9732582688247713\n",
      "test score: 0.8227848101265823\n",
      "              precision    recall  f1-score   support\n",
      "\n",
      "   JUSTNOMIL       0.77      0.93      0.84       238\n",
      "      family       0.91      0.71      0.80       236\n",
      "\n",
      "   micro avg       0.82      0.82      0.82       474\n",
      "   macro avg       0.84      0.82      0.82       474\n",
      "weighted avg       0.84      0.82      0.82       474\n",
      "\n"
     ]
    }
   ],
   "source": [
    "# MultinomialNB model\n",
    "\n",
    "pipenb = Pipeline([('cv', CountVectorizer()),\n",
    "                 #('tfidf',TfidfTransformer()), # Affect test scores by 10%\n",
    "                 ('mnb', MultinomialNB())])\n",
    "\n",
    "pipenb.fit(X_train, y_train)\n",
    "print('train score:', pipenb.score(X_train, y_train))\n",
    "print('test score:', pipenb.score(X_test, y_test))\n",
    "\n",
    "y_pred__ = pipenb.predict(X_test)\n",
    "print(classification_report(y_test,y_pred__))"
   ]
  },
  {
   "cell_type": "markdown",
   "metadata": {},
   "source": [
    "### Parameters tuning: MultiNomial NB"
   ]
  },
  {
   "cell_type": "code",
   "execution_count": 67,
   "metadata": {},
   "outputs": [
    {
     "name": "stdout",
     "output_type": "stream",
     "text": [
      "Fitting 3 folds for each of 64 candidates, totalling 192 fits\n"
     ]
    },
    {
     "name": "stderr",
     "output_type": "stream",
     "text": [
      "[Parallel(n_jobs=1)]: Using backend SequentialBackend with 1 concurrent workers.\n",
      "[Parallel(n_jobs=1)]: Done 192 out of 192 | elapsed:  5.0min finished\n"
     ]
    },
    {
     "name": "stdout",
     "output_type": "stream",
     "text": [
      "0.8353272343420126\n",
      "{'cv__max_features': 300, 'cv__ngram_range': (1, 4), 'mnb__alpha': 0.25}\n",
      "              precision    recall  f1-score   support\n",
      "\n",
      "   JUSTNOMIL       0.84      0.83      0.83       238\n",
      "      family       0.83      0.83      0.83       236\n",
      "\n",
      "   micro avg       0.83      0.83      0.83       474\n",
      "   macro avg       0.83      0.83      0.83       474\n",
      "weighted avg       0.83      0.83      0.83       474\n",
      "\n",
      "CPU times: user 5min, sys: 6.56 s, total: 5min 7s\n",
      "Wall time: 5min\n"
     ]
    }
   ],
   "source": [
    "%%time\n",
    "\n",
    "params = { \n",
    "#     'cvec__ngram_range': [(1, 1), (1, 2)]\n",
    "    'cv__max_features': [50, 100, 200, 300], \n",
    "    'cv__ngram_range': [(1, 1),(1,2), (1,3), (1,4)], \n",
    "    'mnb__alpha': [0.25, 0.5, 0.75, 1]\n",
    "    # min_df\n",
    "    # max_df\n",
    "}\n",
    "gs = GridSearchCV(pipenb, param_grid=params, cv=3, verbose=1)\n",
    "gs.fit(X_train, y_train)\n",
    "print(gs.best_score_)\n",
    "print(gs.best_params_)\n",
    "y_pred_nb = gs.predict(X_test)\n",
    "print(classification_report(y_test,y_pred_nb))"
   ]
  },
  {
   "cell_type": "markdown",
   "metadata": {},
   "source": [
    "## Conclusion\n",
    "\n",
    "Logistic regression out perform Multinomial NB model by 3%"
   ]
  },
  {
   "cell_type": "code",
   "execution_count": null,
   "metadata": {},
   "outputs": [],
   "source": []
  }
 ],
 "metadata": {
  "kernelspec": {
   "display_name": "Python 3",
   "language": "python",
   "name": "python3"
  },
  "language_info": {
   "codemirror_mode": {
    "name": "ipython",
    "version": 3
   },
   "file_extension": ".py",
   "mimetype": "text/x-python",
   "name": "python",
   "nbconvert_exporter": "python",
   "pygments_lexer": "ipython3",
   "version": "3.6.8"
  }
 },
 "nbformat": 4,
 "nbformat_minor": 2
}
